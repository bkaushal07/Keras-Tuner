{
 "cells": [
  {
   "cell_type": "code",
   "execution_count": 1,
   "metadata": {},
   "outputs": [],
   "source": [
    "import pandas as pd\n",
    "from tensorflow import keras\n",
    "from tensorflow.keras import layers\n",
    "from kerastuner.tuners import RandomSearch"
   ]
  },
  {
   "cell_type": "code",
   "execution_count": 2,
   "metadata": {},
   "outputs": [],
   "source": [
    "df=pd.read_csv('Real_Combine.csv')"
   ]
  },
  {
   "cell_type": "code",
   "execution_count": 3,
   "metadata": {},
   "outputs": [
    {
     "data": {
      "text/html": [
       "<div>\n",
       "<style scoped>\n",
       "    .dataframe tbody tr th:only-of-type {\n",
       "        vertical-align: middle;\n",
       "    }\n",
       "\n",
       "    .dataframe tbody tr th {\n",
       "        vertical-align: top;\n",
       "    }\n",
       "\n",
       "    .dataframe thead th {\n",
       "        text-align: right;\n",
       "    }\n",
       "</style>\n",
       "<table border=\"1\" class=\"dataframe\">\n",
       "  <thead>\n",
       "    <tr style=\"text-align: right;\">\n",
       "      <th></th>\n",
       "      <th>T</th>\n",
       "      <th>TM</th>\n",
       "      <th>Tm</th>\n",
       "      <th>SLP</th>\n",
       "      <th>H</th>\n",
       "      <th>VV</th>\n",
       "      <th>V</th>\n",
       "      <th>VM</th>\n",
       "      <th>PM 2.5</th>\n",
       "    </tr>\n",
       "  </thead>\n",
       "  <tbody>\n",
       "    <tr>\n",
       "      <th>0</th>\n",
       "      <td>7.4</td>\n",
       "      <td>9.8</td>\n",
       "      <td>4.8</td>\n",
       "      <td>1017.6</td>\n",
       "      <td>93.0</td>\n",
       "      <td>0.5</td>\n",
       "      <td>4.3</td>\n",
       "      <td>9.4</td>\n",
       "      <td>219.720833</td>\n",
       "    </tr>\n",
       "    <tr>\n",
       "      <th>1</th>\n",
       "      <td>7.8</td>\n",
       "      <td>12.7</td>\n",
       "      <td>4.4</td>\n",
       "      <td>1018.5</td>\n",
       "      <td>87.0</td>\n",
       "      <td>0.6</td>\n",
       "      <td>4.4</td>\n",
       "      <td>11.1</td>\n",
       "      <td>182.187500</td>\n",
       "    </tr>\n",
       "    <tr>\n",
       "      <th>2</th>\n",
       "      <td>6.7</td>\n",
       "      <td>13.4</td>\n",
       "      <td>2.4</td>\n",
       "      <td>1019.4</td>\n",
       "      <td>82.0</td>\n",
       "      <td>0.6</td>\n",
       "      <td>4.8</td>\n",
       "      <td>11.1</td>\n",
       "      <td>154.037500</td>\n",
       "    </tr>\n",
       "    <tr>\n",
       "      <th>3</th>\n",
       "      <td>8.6</td>\n",
       "      <td>15.5</td>\n",
       "      <td>3.3</td>\n",
       "      <td>1018.7</td>\n",
       "      <td>72.0</td>\n",
       "      <td>0.8</td>\n",
       "      <td>8.1</td>\n",
       "      <td>20.6</td>\n",
       "      <td>223.208333</td>\n",
       "    </tr>\n",
       "    <tr>\n",
       "      <th>4</th>\n",
       "      <td>12.4</td>\n",
       "      <td>20.9</td>\n",
       "      <td>4.4</td>\n",
       "      <td>1017.3</td>\n",
       "      <td>61.0</td>\n",
       "      <td>1.3</td>\n",
       "      <td>8.7</td>\n",
       "      <td>22.2</td>\n",
       "      <td>200.645833</td>\n",
       "    </tr>\n",
       "  </tbody>\n",
       "</table>\n",
       "</div>"
      ],
      "text/plain": [
       "      T    TM   Tm     SLP     H   VV    V    VM      PM 2.5\n",
       "0   7.4   9.8  4.8  1017.6  93.0  0.5  4.3   9.4  219.720833\n",
       "1   7.8  12.7  4.4  1018.5  87.0  0.6  4.4  11.1  182.187500\n",
       "2   6.7  13.4  2.4  1019.4  82.0  0.6  4.8  11.1  154.037500\n",
       "3   8.6  15.5  3.3  1018.7  72.0  0.8  8.1  20.6  223.208333\n",
       "4  12.4  20.9  4.4  1017.3  61.0  1.3  8.7  22.2  200.645833"
      ]
     },
     "execution_count": 3,
     "metadata": {},
     "output_type": "execute_result"
    }
   ],
   "source": [
    "df.head()"
   ]
  },
  {
   "cell_type": "code",
   "execution_count": 4,
   "metadata": {},
   "outputs": [],
   "source": [
    "X = df.iloc[:,:-1] #independent\n",
    "y = df.iloc[:,-1] #dependent"
   ]
  },
  {
   "cell_type": "code",
   "execution_count": 5,
   "metadata": {},
   "outputs": [],
   "source": [
    "def build_model(hp):\n",
    "    model = keras.Sequential()\n",
    "    for i in range(hp.Int('num_layers', 2, 25)): # hidden layers can range between 2 to 24\n",
    "        model.add(layers.Dense(units = hp.Int('Units_' +str(i), min_value = 32, max_value = 256, step = 32), # min no of neuron in a HL is 32 and max is 256\n",
    "                                        activation = 'relu')) # AF in HL is relu\n",
    "        model.add(layers.Dense(1, activation = 'linear')) # this is OP layer with AF as linear\n",
    "        model.compile(\n",
    "            optimizer = keras.optimizers.Adam(hp.Choice('Learning_Rate', [1e-2, 1e-3, 1e-4])), #Learning rate is 0.001, 0.0001 and 0.00001\n",
    "            loss = 'mean_absolute_error',\n",
    "            metrics = ['mean_absolute_error'])\n",
    "        return model"
   ]
  },
  {
   "cell_type": "code",
   "execution_count": 7,
   "metadata": {},
   "outputs": [],
   "source": [
    "tuner = RandomSearch(\n",
    "    build_model,\n",
    "    objective = \"val_mean_absolute_error\", #this is for regression. For classification \"val_accuracy\"\n",
    "    max_trials = 5,\n",
    "    executions_per_trial =3, #totally runs 5 X 3 times = 15 times\n",
    "    directory = 'my_dir',\n",
    "    project_name = 'hyperparameter_tuning_using_Keras_Tuner')"
   ]
  },
  {
   "cell_type": "code",
   "execution_count": 8,
   "metadata": {},
   "outputs": [
    {
     "data": {
      "text/html": [
       "<span style=\"color:#4527A0\"><h1 style=\"font-size:18px\">Search space summary</h1></span>"
      ],
      "text/plain": [
       "<IPython.core.display.HTML object>"
      ]
     },
     "metadata": {},
     "output_type": "display_data"
    },
    {
     "data": {
      "text/html": [
       "<span style=\"color:cyan\"> |-Default search space size: 3</span>"
      ],
      "text/plain": [
       "<IPython.core.display.HTML object>"
      ]
     },
     "metadata": {},
     "output_type": "display_data"
    },
    {
     "data": {
      "text/html": [
       "<span style=\"color:#7E57C2\"><h2 style=\"font-size:16px\">num_layers (Int)</h2></span>"
      ],
      "text/plain": [
       "<IPython.core.display.HTML object>"
      ]
     },
     "metadata": {},
     "output_type": "display_data"
    },
    {
     "data": {
      "text/html": [
       "<span style=\"color:cyan\"> |-default: None</span>"
      ],
      "text/plain": [
       "<IPython.core.display.HTML object>"
      ]
     },
     "metadata": {},
     "output_type": "display_data"
    },
    {
     "data": {
      "text/html": [
       "<span style=\"color:blue\"> |-max_value: 25</span>"
      ],
      "text/plain": [
       "<IPython.core.display.HTML object>"
      ]
     },
     "metadata": {},
     "output_type": "display_data"
    },
    {
     "data": {
      "text/html": [
       "<span style=\"color:cyan\"> |-min_value: 2</span>"
      ],
      "text/plain": [
       "<IPython.core.display.HTML object>"
      ]
     },
     "metadata": {},
     "output_type": "display_data"
    },
    {
     "data": {
      "text/html": [
       "<span style=\"color:blue\"> |-sampling: None</span>"
      ],
      "text/plain": [
       "<IPython.core.display.HTML object>"
      ]
     },
     "metadata": {},
     "output_type": "display_data"
    },
    {
     "data": {
      "text/html": [
       "<span style=\"color:cyan\"> |-step: 1</span>"
      ],
      "text/plain": [
       "<IPython.core.display.HTML object>"
      ]
     },
     "metadata": {},
     "output_type": "display_data"
    },
    {
     "data": {
      "text/html": [
       "<span style=\"color:#7E57C2\"><h2 style=\"font-size:16px\">Units_0 (Int)</h2></span>"
      ],
      "text/plain": [
       "<IPython.core.display.HTML object>"
      ]
     },
     "metadata": {},
     "output_type": "display_data"
    },
    {
     "data": {
      "text/html": [
       "<span style=\"color:cyan\"> |-default: None</span>"
      ],
      "text/plain": [
       "<IPython.core.display.HTML object>"
      ]
     },
     "metadata": {},
     "output_type": "display_data"
    },
    {
     "data": {
      "text/html": [
       "<span style=\"color:blue\"> |-max_value: 256</span>"
      ],
      "text/plain": [
       "<IPython.core.display.HTML object>"
      ]
     },
     "metadata": {},
     "output_type": "display_data"
    },
    {
     "data": {
      "text/html": [
       "<span style=\"color:cyan\"> |-min_value: 32</span>"
      ],
      "text/plain": [
       "<IPython.core.display.HTML object>"
      ]
     },
     "metadata": {},
     "output_type": "display_data"
    },
    {
     "data": {
      "text/html": [
       "<span style=\"color:blue\"> |-sampling: None</span>"
      ],
      "text/plain": [
       "<IPython.core.display.HTML object>"
      ]
     },
     "metadata": {},
     "output_type": "display_data"
    },
    {
     "data": {
      "text/html": [
       "<span style=\"color:cyan\"> |-step: 32</span>"
      ],
      "text/plain": [
       "<IPython.core.display.HTML object>"
      ]
     },
     "metadata": {},
     "output_type": "display_data"
    },
    {
     "data": {
      "text/html": [
       "<span style=\"color:#7E57C2\"><h2 style=\"font-size:16px\">Learning_Rate (Choice)</h2></span>"
      ],
      "text/plain": [
       "<IPython.core.display.HTML object>"
      ]
     },
     "metadata": {},
     "output_type": "display_data"
    },
    {
     "data": {
      "text/html": [
       "<span style=\"color:cyan\"> |-default: 0.01</span>"
      ],
      "text/plain": [
       "<IPython.core.display.HTML object>"
      ]
     },
     "metadata": {},
     "output_type": "display_data"
    },
    {
     "data": {
      "text/html": [
       "<span style=\"color:blue\"> |-ordered: True</span>"
      ],
      "text/plain": [
       "<IPython.core.display.HTML object>"
      ]
     },
     "metadata": {},
     "output_type": "display_data"
    },
    {
     "data": {
      "text/html": [
       "<span style=\"color:cyan\"> |-values: [0.01, 0.001, 0.0001]</span>"
      ],
      "text/plain": [
       "<IPython.core.display.HTML object>"
      ]
     },
     "metadata": {},
     "output_type": "display_data"
    }
   ],
   "source": [
    "tuner.search_space_summary()"
   ]
  },
  {
   "cell_type": "code",
   "execution_count": 9,
   "metadata": {},
   "outputs": [],
   "source": [
    "from sklearn.model_selection import train_test_split\n",
    "X_train, X_test, y_train, y_test = train_test_split(X, y, test_size = 0.3, random_state = 0)"
   ]
  },
  {
   "cell_type": "code",
   "execution_count": 10,
   "metadata": {},
   "outputs": [
    {
     "name": "stdout",
     "output_type": "stream",
     "text": [
      "Epoch 1/5\n",
      "WARNING:tensorflow:Layer dense is casting an input tensor from dtype float64 to the layer's dtype of float32, which is new behavior in TensorFlow 2.  The layer has dtype float32 because its dtype defaults to floatx.\n",
      "\n",
      "If you intended to run this layer in float32, you can safely ignore this warning. If in doubt, this warning is likely only an issue if you are porting a TensorFlow 1.X model to TensorFlow 2.\n",
      "\n",
      "To change all layers to have dtype float64 by default, call `tf.keras.backend.set_floatx('float64')`. To change just this layer, pass dtype='float64' to the layer constructor. If you are the author of this layer, you can disable autocasting by passing autocast=False to the base Layer constructor.\n",
      "\n",
      "24/24 [==============================] - ETA: 0s - loss: 189.4800 - mean_absolute_error: 189.480 - 1s 24ms/step - loss: nan - mean_absolute_error: nan - val_loss: 65.1570 - val_mean_absolute_error: 65.1570\n",
      "Epoch 2/5\n",
      "24/24 [==============================] - ETA: 0s - loss: 86.3378 - mean_absolute_error: 86.337 - 0s 9ms/step - loss: nan - mean_absolute_error: nan - val_loss: 64.7129 - val_mean_absolute_error: 64.7129\n",
      "Epoch 3/5\n",
      "24/24 [==============================] - ETA: 0s - loss: 68.8821 - mean_absolute_error: 68.882 - 0s 10ms/step - loss: nan - mean_absolute_error: nan - val_loss: 63.4557 - val_mean_absolute_error: 63.4557\n",
      "Epoch 4/5\n",
      "24/24 [==============================] - ETA: 0s - loss: 65.0308 - mean_absolute_error: 65.030 - 0s 2ms/step - loss: nan - mean_absolute_error: nan - val_loss: 68.8422 - val_mean_absolute_error: 68.8422\n",
      "Epoch 5/5\n",
      "24/24 [==============================] - ETA: 0s - loss: 70.2127 - mean_absolute_error: 70.212 - 0s 9ms/step - loss: nan - mean_absolute_error: nan - val_loss: 61.7697 - val_mean_absolute_error: 61.7697\n",
      "Epoch 1/5\n",
      "WARNING:tensorflow:Layer dense is casting an input tensor from dtype float64 to the layer's dtype of float32, which is new behavior in TensorFlow 2.  The layer has dtype float32 because its dtype defaults to floatx.\n",
      "\n",
      "If you intended to run this layer in float32, you can safely ignore this warning. If in doubt, this warning is likely only an issue if you are porting a TensorFlow 1.X model to TensorFlow 2.\n",
      "\n",
      "To change all layers to have dtype float64 by default, call `tf.keras.backend.set_floatx('float64')`. To change just this layer, pass dtype='float64' to the layer constructor. If you are the author of this layer, you can disable autocasting by passing autocast=False to the base Layer constructor.\n",
      "\n",
      "24/24 [==============================] - ETA: 0s - loss: 228.9932 - mean_absolute_error: 228.993 - 0s 6ms/step - loss: nan - mean_absolute_error: nan - val_loss: 81.0879 - val_mean_absolute_error: 81.0879\n",
      "Epoch 2/5\n",
      "24/24 [==============================] - ETA: 0s - loss: 81.9476 - mean_absolute_error: 81.947 - 0s 3ms/step - loss: nan - mean_absolute_error: nan - val_loss: 64.5261 - val_mean_absolute_error: 64.5261\n",
      "Epoch 3/5\n",
      "24/24 [==============================] - ETA: 0s - loss: 69.0562 - mean_absolute_error: 69.056 - 0s 3ms/step - loss: nan - mean_absolute_error: nan - val_loss: 63.4833 - val_mean_absolute_error: 63.4833\n",
      "Epoch 4/5\n",
      "24/24 [==============================] - ETA: 0s - loss: 41.5916 - mean_absolute_error: 41.591 - 0s 2ms/step - loss: nan - mean_absolute_error: nan - val_loss: 63.7100 - val_mean_absolute_error: 63.7100\n",
      "Epoch 5/5\n",
      "24/24 [==============================] - ETA: 0s - loss: 71.1890 - mean_absolute_error: 71.189 - 0s 2ms/step - loss: nan - mean_absolute_error: nan - val_loss: 66.0052 - val_mean_absolute_error: 66.0052\n",
      "Epoch 1/5\n",
      "WARNING:tensorflow:Layer dense is casting an input tensor from dtype float64 to the layer's dtype of float32, which is new behavior in TensorFlow 2.  The layer has dtype float32 because its dtype defaults to floatx.\n",
      "\n",
      "If you intended to run this layer in float32, you can safely ignore this warning. If in doubt, this warning is likely only an issue if you are porting a TensorFlow 1.X model to TensorFlow 2.\n",
      "\n",
      "To change all layers to have dtype float64 by default, call `tf.keras.backend.set_floatx('float64')`. To change just this layer, pass dtype='float64' to the layer constructor. If you are the author of this layer, you can disable autocasting by passing autocast=False to the base Layer constructor.\n",
      "\n",
      "24/24 [==============================] - ETA: 0s - loss: 185.4605 - mean_absolute_error: 185.460 - 0s 6ms/step - loss: nan - mean_absolute_error: nan - val_loss: 64.4423 - val_mean_absolute_error: 64.4423\n",
      "Epoch 2/5\n",
      "24/24 [==============================] - ETA: 0s - loss: 55.0776 - mean_absolute_error: 55.077 - 0s 3ms/step - loss: nan - mean_absolute_error: nan - val_loss: 65.5811 - val_mean_absolute_error: 65.5811\n",
      "Epoch 3/5\n",
      "24/24 [==============================] - ETA: 0s - loss: 65.0706 - mean_absolute_error: 65.070 - 0s 2ms/step - loss: nan - mean_absolute_error: nan - val_loss: 63.0165 - val_mean_absolute_error: 63.0165\n",
      "Epoch 4/5\n",
      "24/24 [==============================] - ETA: 0s - loss: 65.6709 - mean_absolute_error: 65.670 - 1s 35ms/step - loss: nan - mean_absolute_error: nan - val_loss: 60.9147 - val_mean_absolute_error: 60.9147\n",
      "Epoch 5/5\n",
      "24/24 [==============================] - ETA: 0s - loss: 73.9927 - mean_absolute_error: 73.992 - 0s 9ms/step - loss: nan - mean_absolute_error: nan - val_loss: 59.3651 - val_mean_absolute_error: 59.3651\n"
     ]
    },
    {
     "name": "stderr",
     "output_type": "stream",
     "text": [
      "D:\\Anaconda3\\lib\\site-packages\\kerastuner\\engine\\metrics_tracking.py:92: RuntimeWarning: All-NaN axis encountered\n",
      "  return np.nanmin(values)\n"
     ]
    },
    {
     "data": {
      "text/html": [
       "<span style=\"color:#4527A0\"><h1 style=\"font-size:18px\">Trial complete</h1></span>"
      ],
      "text/plain": [
       "<IPython.core.display.HTML object>"
      ]
     },
     "metadata": {},
     "output_type": "display_data"
    },
    {
     "data": {
      "text/html": [
       "<span style=\"color:#4527A0\"><h1 style=\"font-size:18px\">Trial summary</h1></span>"
      ],
      "text/plain": [
       "<IPython.core.display.HTML object>"
      ]
     },
     "metadata": {},
     "output_type": "display_data"
    },
    {
     "data": {
      "text/html": [
       "<span style=\"color:cyan\"> |-Trial ID: 7d7cc96c8a745d7cd4ea4fb7a42771cf</span>"
      ],
      "text/plain": [
       "<IPython.core.display.HTML object>"
      ]
     },
     "metadata": {},
     "output_type": "display_data"
    },
    {
     "data": {
      "text/html": [
       "<span style=\"color:cyan\"> |-Score: 61.53938293457031</span>"
      ],
      "text/plain": [
       "<IPython.core.display.HTML object>"
      ]
     },
     "metadata": {},
     "output_type": "display_data"
    },
    {
     "data": {
      "text/html": [
       "<span style=\"color:cyan\"> |-Best step: 0</span>"
      ],
      "text/plain": [
       "<IPython.core.display.HTML object>"
      ]
     },
     "metadata": {},
     "output_type": "display_data"
    },
    {
     "data": {
      "text/html": [
       "<span style=\"color:#7E57C2\"><h2 style=\"font-size:16px\">Hyperparameters:</h2></span>"
      ],
      "text/plain": [
       "<IPython.core.display.HTML object>"
      ]
     },
     "metadata": {},
     "output_type": "display_data"
    },
    {
     "data": {
      "text/html": [
       "<span style=\"color:cyan\"> |-Learning_Rate: 0.001</span>"
      ],
      "text/plain": [
       "<IPython.core.display.HTML object>"
      ]
     },
     "metadata": {},
     "output_type": "display_data"
    },
    {
     "data": {
      "text/html": [
       "<span style=\"color:blue\"> |-Units_0: 256</span>"
      ],
      "text/plain": [
       "<IPython.core.display.HTML object>"
      ]
     },
     "metadata": {},
     "output_type": "display_data"
    },
    {
     "data": {
      "text/html": [
       "<span style=\"color:cyan\"> |-num_layers: 14</span>"
      ],
      "text/plain": [
       "<IPython.core.display.HTML object>"
      ]
     },
     "metadata": {},
     "output_type": "display_data"
    },
    {
     "name": "stdout",
     "output_type": "stream",
     "text": [
      "Epoch 1/5\n",
      "WARNING:tensorflow:Layer dense is casting an input tensor from dtype float64 to the layer's dtype of float32, which is new behavior in TensorFlow 2.  The layer has dtype float32 because its dtype defaults to floatx.\n",
      "\n",
      "If you intended to run this layer in float32, you can safely ignore this warning. If in doubt, this warning is likely only an issue if you are porting a TensorFlow 1.X model to TensorFlow 2.\n",
      "\n",
      "To change all layers to have dtype float64 by default, call `tf.keras.backend.set_floatx('float64')`. To change just this layer, pass dtype='float64' to the layer constructor. If you are the author of this layer, you can disable autocasting by passing autocast=False to the base Layer constructor.\n",
      "\n",
      "24/24 [==============================] - ETA: 0s - loss: 121.5652 - mean_absolute_error: 121.565 - 1s 38ms/step - loss: nan - mean_absolute_error: nan - val_loss: 62.9248 - val_mean_absolute_error: 62.9248\n",
      "Epoch 2/5\n",
      "24/24 [==============================] - ETA: 0s - loss: 65.0203 - mean_absolute_error: 65.020 - 0s 10ms/step - loss: nan - mean_absolute_error: nan - val_loss: 61.9701 - val_mean_absolute_error: 61.9701\n",
      "Epoch 3/5\n",
      "24/24 [==============================] - ETA: 0s - loss: 59.1630 - mean_absolute_error: 59.163 - 0s 2ms/step - loss: nan - mean_absolute_error: nan - val_loss: 63.2578 - val_mean_absolute_error: 63.2578\n",
      "Epoch 4/5\n",
      "24/24 [==============================] - ETA: 0s - loss: 57.4365 - mean_absolute_error: 57.436 - 0s 9ms/step - loss: nan - mean_absolute_error: nan - val_loss: 61.4963 - val_mean_absolute_error: 61.4963\n",
      "Epoch 5/5\n",
      "24/24 [==============================] - ETA: 0s - loss: 79.2510 - mean_absolute_error: 79.251 - 0s 9ms/step - loss: nan - mean_absolute_error: nan - val_loss: 59.5343 - val_mean_absolute_error: 59.5343\n",
      "Epoch 1/5\n",
      "WARNING:tensorflow:Layer dense is casting an input tensor from dtype float64 to the layer's dtype of float32, which is new behavior in TensorFlow 2.  The layer has dtype float32 because its dtype defaults to floatx.\n",
      "\n",
      "If you intended to run this layer in float32, you can safely ignore this warning. If in doubt, this warning is likely only an issue if you are porting a TensorFlow 1.X model to TensorFlow 2.\n",
      "\n",
      "To change all layers to have dtype float64 by default, call `tf.keras.backend.set_floatx('float64')`. To change just this layer, pass dtype='float64' to the layer constructor. If you are the author of this layer, you can disable autocasting by passing autocast=False to the base Layer constructor.\n",
      "\n",
      "24/24 [==============================] - ETA: 0s - loss: 73.4260 - mean_absolute_error: 73.426 - 0s 7ms/step - loss: nan - mean_absolute_error: nan - val_loss: 62.9738 - val_mean_absolute_error: 62.9738\n",
      "Epoch 2/5\n",
      "24/24 [==============================] - ETA: 0s - loss: 82.8228 - mean_absolute_error: 82.822 - 0s 2ms/step - loss: nan - mean_absolute_error: nan - val_loss: 63.0816 - val_mean_absolute_error: 63.0816\n",
      "Epoch 3/5\n",
      "24/24 [==============================] - ETA: 0s - loss: nan - mean_absolute_error: na - 0s 2ms/step - loss: nan - mean_absolute_error: nan - val_loss: 60.9704 - val_mean_absolute_error: 60.9704\n",
      "Epoch 4/5\n",
      "24/24 [==============================] - ETA: 0s - loss: 55.2188 - mean_absolute_error: 55.218 - 1s 23ms/step - loss: nan - mean_absolute_error: nan - val_loss: 59.0707 - val_mean_absolute_error: 59.0707\n",
      "Epoch 5/5\n",
      "24/24 [==============================] - ETA: 0s - loss: 60.3981 - mean_absolute_error: 60.398 - 0s 10ms/step - loss: nan - mean_absolute_error: nan - val_loss: 57.9692 - val_mean_absolute_error: 57.9692\n",
      "Epoch 1/5\n",
      "WARNING:tensorflow:Layer dense is casting an input tensor from dtype float64 to the layer's dtype of float32, which is new behavior in TensorFlow 2.  The layer has dtype float32 because its dtype defaults to floatx.\n",
      "\n",
      "If you intended to run this layer in float32, you can safely ignore this warning. If in doubt, this warning is likely only an issue if you are porting a TensorFlow 1.X model to TensorFlow 2.\n",
      "\n",
      "To change all layers to have dtype float64 by default, call `tf.keras.backend.set_floatx('float64')`. To change just this layer, pass dtype='float64' to the layer constructor. If you are the author of this layer, you can disable autocasting by passing autocast=False to the base Layer constructor.\n",
      "\n",
      "24/24 [==============================] - ETA: 0s - loss: 72.3159 - mean_absolute_error: 72.315 - 0s 5ms/step - loss: nan - mean_absolute_error: nan - val_loss: 65.5207 - val_mean_absolute_error: 65.5207\n",
      "Epoch 2/5\n",
      "24/24 [==============================] - ETA: 0s - loss: 62.3165 - mean_absolute_error: 62.316 - 0s 2ms/step - loss: nan - mean_absolute_error: nan - val_loss: 61.7838 - val_mean_absolute_error: 61.7838\n",
      "Epoch 3/5\n",
      "24/24 [==============================] - ETA: 0s - loss: 72.1388 - mean_absolute_error: 72.138 - 0s 2ms/step - loss: nan - mean_absolute_error: nan - val_loss: 61.9871 - val_mean_absolute_error: 61.9871\n",
      "Epoch 4/5\n",
      "24/24 [==============================] - ETA: 0s - loss: 49.3350 - mean_absolute_error: 49.335 - 0s 2ms/step - loss: nan - mean_absolute_error: nan - val_loss: 58.9872 - val_mean_absolute_error: 58.9872\n",
      "Epoch 5/5\n",
      "24/24 [==============================] - ETA: 0s - loss: 62.3808 - mean_absolute_error: 62.380 - 0s 2ms/step - loss: nan - mean_absolute_error: nan - val_loss: 58.0877 - val_mean_absolute_error: 58.0877\n"
     ]
    },
    {
     "data": {
      "text/html": [
       "<span style=\"color:#4527A0\"><h1 style=\"font-size:18px\">Trial complete</h1></span>"
      ],
      "text/plain": [
       "<IPython.core.display.HTML object>"
      ]
     },
     "metadata": {},
     "output_type": "display_data"
    },
    {
     "data": {
      "text/html": [
       "<span style=\"color:#4527A0\"><h1 style=\"font-size:18px\">Trial summary</h1></span>"
      ],
      "text/plain": [
       "<IPython.core.display.HTML object>"
      ]
     },
     "metadata": {},
     "output_type": "display_data"
    },
    {
     "data": {
      "text/html": [
       "<span style=\"color:cyan\"> |-Trial ID: 53b6e4a5fb2db4cccfb408aa48985212</span>"
      ],
      "text/plain": [
       "<IPython.core.display.HTML object>"
      ]
     },
     "metadata": {},
     "output_type": "display_data"
    },
    {
     "data": {
      "text/html": [
       "<span style=\"color:cyan\"> |-Score: 58.530382792154946</span>"
      ],
      "text/plain": [
       "<IPython.core.display.HTML object>"
      ]
     },
     "metadata": {},
     "output_type": "display_data"
    },
    {
     "data": {
      "text/html": [
       "<span style=\"color:cyan\"> |-Best step: 0</span>"
      ],
      "text/plain": [
       "<IPython.core.display.HTML object>"
      ]
     },
     "metadata": {},
     "output_type": "display_data"
    },
    {
     "data": {
      "text/html": [
       "<span style=\"color:#7E57C2\"><h2 style=\"font-size:16px\">Hyperparameters:</h2></span>"
      ],
      "text/plain": [
       "<IPython.core.display.HTML object>"
      ]
     },
     "metadata": {},
     "output_type": "display_data"
    },
    {
     "data": {
      "text/html": [
       "<span style=\"color:cyan\"> |-Learning_Rate: 0.001</span>"
      ],
      "text/plain": [
       "<IPython.core.display.HTML object>"
      ]
     },
     "metadata": {},
     "output_type": "display_data"
    },
    {
     "data": {
      "text/html": [
       "<span style=\"color:blue\"> |-Units_0: 224</span>"
      ],
      "text/plain": [
       "<IPython.core.display.HTML object>"
      ]
     },
     "metadata": {},
     "output_type": "display_data"
    },
    {
     "data": {
      "text/html": [
       "<span style=\"color:cyan\"> |-num_layers: 22</span>"
      ],
      "text/plain": [
       "<IPython.core.display.HTML object>"
      ]
     },
     "metadata": {},
     "output_type": "display_data"
    },
    {
     "name": "stdout",
     "output_type": "stream",
     "text": [
      "Epoch 1/5\n",
      "WARNING:tensorflow:Layer dense is casting an input tensor from dtype float64 to the layer's dtype of float32, which is new behavior in TensorFlow 2.  The layer has dtype float32 because its dtype defaults to floatx.\n",
      "\n",
      "If you intended to run this layer in float32, you can safely ignore this warning. If in doubt, this warning is likely only an issue if you are porting a TensorFlow 1.X model to TensorFlow 2.\n",
      "\n",
      "To change all layers to have dtype float64 by default, call `tf.keras.backend.set_floatx('float64')`. To change just this layer, pass dtype='float64' to the layer constructor. If you are the author of this layer, you can disable autocasting by passing autocast=False to the base Layer constructor.\n",
      "\n",
      "24/24 [==============================] - ETA: 0s - loss: 177.8789 - mean_absolute_error: 177.878 - 1s 42ms/step - loss: nan - mean_absolute_error: nan - val_loss: 65.6644 - val_mean_absolute_error: 65.6644\n",
      "Epoch 2/5\n",
      "24/24 [==============================] - ETA: 0s - loss: 54.1313 - mean_absolute_error: 54.131 - 0s 9ms/step - loss: nan - mean_absolute_error: nan - val_loss: 64.0763 - val_mean_absolute_error: 64.0763\n",
      "Epoch 3/5\n",
      "24/24 [==============================] - ETA: 0s - loss: 59.0140 - mean_absolute_error: 59.014 - 0s 9ms/step - loss: nan - mean_absolute_error: nan - val_loss: 62.6817 - val_mean_absolute_error: 62.6817\n",
      "Epoch 4/5\n",
      "24/24 [==============================] - ETA: 0s - loss: 54.6519 - mean_absolute_error: 54.651 - 0s 9ms/step - loss: nan - mean_absolute_error: nan - val_loss: 62.5997 - val_mean_absolute_error: 62.5997\n",
      "Epoch 5/5\n",
      "24/24 [==============================] - ETA: 0s - loss: 71.1355 - mean_absolute_error: 71.135 - 0s 9ms/step - loss: nan - mean_absolute_error: nan - val_loss: 62.0062 - val_mean_absolute_error: 62.0062\n",
      "Epoch 1/5\n",
      "WARNING:tensorflow:Layer dense is casting an input tensor from dtype float64 to the layer's dtype of float32, which is new behavior in TensorFlow 2.  The layer has dtype float32 because its dtype defaults to floatx.\n",
      "\n",
      "If you intended to run this layer in float32, you can safely ignore this warning. If in doubt, this warning is likely only an issue if you are porting a TensorFlow 1.X model to TensorFlow 2.\n",
      "\n",
      "To change all layers to have dtype float64 by default, call `tf.keras.backend.set_floatx('float64')`. To change just this layer, pass dtype='float64' to the layer constructor. If you are the author of this layer, you can disable autocasting by passing autocast=False to the base Layer constructor.\n",
      "\n",
      "24/24 [==============================] - ETA: 0s - loss: 80.7317 - mean_absolute_error: 80.731 - 0s 5ms/step - loss: nan - mean_absolute_error: nan - val_loss: 65.1855 - val_mean_absolute_error: 65.1855\n",
      "Epoch 2/5\n",
      "24/24 [==============================] - ETA: 0s - loss: 65.2308 - mean_absolute_error: 65.230 - 0s 2ms/step - loss: nan - mean_absolute_error: nan - val_loss: 65.5338 - val_mean_absolute_error: 65.5338\n",
      "Epoch 3/5\n",
      "24/24 [==============================] - ETA: 0s - loss: 71.7866 - mean_absolute_error: 71.786 - 0s 2ms/step - loss: nan - mean_absolute_error: nan - val_loss: 64.6814 - val_mean_absolute_error: 64.6814\n",
      "Epoch 4/5\n",
      "24/24 [==============================] - ETA: 0s - loss: nan - mean_absolute_error: na - 0s 2ms/step - loss: nan - mean_absolute_error: nan - val_loss: 63.5235 - val_mean_absolute_error: 63.5235\n",
      "Epoch 5/5\n",
      "24/24 [==============================] - ETA: 0s - loss: 78.0192 - mean_absolute_error: 78.019 - 0s 2ms/step - loss: nan - mean_absolute_error: nan - val_loss: 63.6728 - val_mean_absolute_error: 63.6728\n",
      "Epoch 1/5\n",
      "WARNING:tensorflow:Layer dense is casting an input tensor from dtype float64 to the layer's dtype of float32, which is new behavior in TensorFlow 2.  The layer has dtype float32 because its dtype defaults to floatx.\n",
      "\n",
      "If you intended to run this layer in float32, you can safely ignore this warning. If in doubt, this warning is likely only an issue if you are porting a TensorFlow 1.X model to TensorFlow 2.\n",
      "\n",
      "To change all layers to have dtype float64 by default, call `tf.keras.backend.set_floatx('float64')`. To change just this layer, pass dtype='float64' to the layer constructor. If you are the author of this layer, you can disable autocasting by passing autocast=False to the base Layer constructor.\n",
      "\n",
      "24/24 [==============================] - ETA: 0s - loss: 174.1542 - mean_absolute_error: 174.154 - 0s 5ms/step - loss: nan - mean_absolute_error: nan - val_loss: 71.9334 - val_mean_absolute_error: 71.9334\n",
      "Epoch 2/5\n",
      "24/24 [==============================] - ETA: 0s - loss: 72.0590 - mean_absolute_error: 72.059 - 0s 2ms/step - loss: nan - mean_absolute_error: nan - val_loss: 70.0709 - val_mean_absolute_error: 70.0709\n",
      "Epoch 3/5\n",
      "24/24 [==============================] - ETA: 0s - loss: 70.8056 - mean_absolute_error: 70.805 - 0s 2ms/step - loss: nan - mean_absolute_error: nan - val_loss: 68.4009 - val_mean_absolute_error: 68.4009\n",
      "Epoch 4/5\n",
      "24/24 [==============================] - ETA: 0s - loss: 72.6118 - mean_absolute_error: 72.611 - 0s 2ms/step - loss: nan - mean_absolute_error: nan - val_loss: 68.4739 - val_mean_absolute_error: 68.4739\n",
      "Epoch 5/5\n",
      "24/24 [==============================] - ETA: 0s - loss: 64.1288 - mean_absolute_error: 64.128 - 0s 2ms/step - loss: nan - mean_absolute_error: nan - val_loss: 67.9069 - val_mean_absolute_error: 67.9069\n"
     ]
    },
    {
     "data": {
      "text/html": [
       "<span style=\"color:#4527A0\"><h1 style=\"font-size:18px\">Trial complete</h1></span>"
      ],
      "text/plain": [
       "<IPython.core.display.HTML object>"
      ]
     },
     "metadata": {},
     "output_type": "display_data"
    },
    {
     "data": {
      "text/html": [
       "<span style=\"color:#4527A0\"><h1 style=\"font-size:18px\">Trial summary</h1></span>"
      ],
      "text/plain": [
       "<IPython.core.display.HTML object>"
      ]
     },
     "metadata": {},
     "output_type": "display_data"
    },
    {
     "data": {
      "text/html": [
       "<span style=\"color:cyan\"> |-Trial ID: 3ba0bfd31faa2534c2d5b94608c04bbd</span>"
      ],
      "text/plain": [
       "<IPython.core.display.HTML object>"
      ]
     },
     "metadata": {},
     "output_type": "display_data"
    },
    {
     "data": {
      "text/html": [
       "<span style=\"color:cyan\"> |-Score: 64.47887293497722</span>"
      ],
      "text/plain": [
       "<IPython.core.display.HTML object>"
      ]
     },
     "metadata": {},
     "output_type": "display_data"
    },
    {
     "data": {
      "text/html": [
       "<span style=\"color:cyan\"> |-Best step: 0</span>"
      ],
      "text/plain": [
       "<IPython.core.display.HTML object>"
      ]
     },
     "metadata": {},
     "output_type": "display_data"
    },
    {
     "data": {
      "text/html": [
       "<span style=\"color:#7E57C2\"><h2 style=\"font-size:16px\">Hyperparameters:</h2></span>"
      ],
      "text/plain": [
       "<IPython.core.display.HTML object>"
      ]
     },
     "metadata": {},
     "output_type": "display_data"
    },
    {
     "data": {
      "text/html": [
       "<span style=\"color:cyan\"> |-Learning_Rate: 0.001</span>"
      ],
      "text/plain": [
       "<IPython.core.display.HTML object>"
      ]
     },
     "metadata": {},
     "output_type": "display_data"
    },
    {
     "data": {
      "text/html": [
       "<span style=\"color:blue\"> |-Units_0: 32</span>"
      ],
      "text/plain": [
       "<IPython.core.display.HTML object>"
      ]
     },
     "metadata": {},
     "output_type": "display_data"
    },
    {
     "data": {
      "text/html": [
       "<span style=\"color:cyan\"> |-num_layers: 4</span>"
      ],
      "text/plain": [
       "<IPython.core.display.HTML object>"
      ]
     },
     "metadata": {},
     "output_type": "display_data"
    },
    {
     "name": "stdout",
     "output_type": "stream",
     "text": [
      "Epoch 1/5\n",
      "WARNING:tensorflow:Layer dense is casting an input tensor from dtype float64 to the layer's dtype of float32, which is new behavior in TensorFlow 2.  The layer has dtype float32 because its dtype defaults to floatx.\n",
      "\n",
      "If you intended to run this layer in float32, you can safely ignore this warning. If in doubt, this warning is likely only an issue if you are porting a TensorFlow 1.X model to TensorFlow 2.\n",
      "\n",
      "To change all layers to have dtype float64 by default, call `tf.keras.backend.set_floatx('float64')`. To change just this layer, pass dtype='float64' to the layer constructor. If you are the author of this layer, you can disable autocasting by passing autocast=False to the base Layer constructor.\n",
      "\n",
      "24/24 [==============================] - ETA: 0s - loss: 209.3652 - mean_absolute_error: 209.365 - 1s 40ms/step - loss: nan - mean_absolute_error: nan - val_loss: 189.6697 - val_mean_absolute_error: 189.6697\n",
      "Epoch 2/5\n",
      "24/24 [==============================] - ETA: 0s - loss: 204.7117 - mean_absolute_error: 204.711 - 0s 9ms/step - loss: nan - mean_absolute_error: nan - val_loss: 145.9608 - val_mean_absolute_error: 145.9608\n",
      "Epoch 3/5\n",
      "24/24 [==============================] - ETA: 0s - loss: 135.4572 - mean_absolute_error: 135.457 - 0s 9ms/step - loss: nan - mean_absolute_error: nan - val_loss: 102.8706 - val_mean_absolute_error: 102.8706\n",
      "Epoch 4/5\n",
      "24/24 [==============================] - ETA: 0s - loss: 119.9416 - mean_absolute_error: 119.941 - 0s 9ms/step - loss: nan - mean_absolute_error: nan - val_loss: 72.3821 - val_mean_absolute_error: 72.3821\n",
      "Epoch 5/5\n",
      "24/24 [==============================] - ETA: 0s - loss: 59.2492 - mean_absolute_error: 59.249 - 0s 9ms/step - loss: nan - mean_absolute_error: nan - val_loss: 65.1268 - val_mean_absolute_error: 65.1268\n",
      "Epoch 1/5\n",
      "WARNING:tensorflow:Layer dense is casting an input tensor from dtype float64 to the layer's dtype of float32, which is new behavior in TensorFlow 2.  The layer has dtype float32 because its dtype defaults to floatx.\n",
      "\n",
      "If you intended to run this layer in float32, you can safely ignore this warning. If in doubt, this warning is likely only an issue if you are porting a TensorFlow 1.X model to TensorFlow 2.\n",
      "\n",
      "To change all layers to have dtype float64 by default, call `tf.keras.backend.set_floatx('float64')`. To change just this layer, pass dtype='float64' to the layer constructor. If you are the author of this layer, you can disable autocasting by passing autocast=False to the base Layer constructor.\n",
      "\n",
      "24/24 [==============================] - ETA: 0s - loss: 111.8828 - mean_absolute_error: 111.882 - 0s 5ms/step - loss: nan - mean_absolute_error: nan - val_loss: 70.3308 - val_mean_absolute_error: 70.3308\n",
      "Epoch 2/5\n",
      "24/24 [==============================] - ETA: 0s - loss: 62.5175 - mean_absolute_error: 62.517 - 1s 46ms/step - loss: nan - mean_absolute_error: nan - val_loss: 63.7892 - val_mean_absolute_error: 63.7892\n",
      "Epoch 3/5\n",
      "24/24 [==============================] - ETA: 0s - loss: 60.1355 - mean_absolute_error: 60.135 - 0s 8ms/step - loss: nan - mean_absolute_error: nan - val_loss: 63.6528 - val_mean_absolute_error: 63.6528\n",
      "Epoch 4/5\n",
      "24/24 [==============================] - ETA: 0s - loss: 60.8011 - mean_absolute_error: 60.801 - 0s 2ms/step - loss: nan - mean_absolute_error: nan - val_loss: 63.9533 - val_mean_absolute_error: 63.9533\n",
      "Epoch 5/5\n",
      "24/24 [==============================] - ETA: 0s - loss: 62.7667 - mean_absolute_error: 62.766 - 0s 2ms/step - loss: nan - mean_absolute_error: nan - val_loss: 63.7263 - val_mean_absolute_error: 63.7263\n",
      "Epoch 1/5\n",
      "WARNING:tensorflow:Layer dense is casting an input tensor from dtype float64 to the layer's dtype of float32, which is new behavior in TensorFlow 2.  The layer has dtype float32 because its dtype defaults to floatx.\n",
      "\n",
      "If you intended to run this layer in float32, you can safely ignore this warning. If in doubt, this warning is likely only an issue if you are porting a TensorFlow 1.X model to TensorFlow 2.\n",
      "\n",
      "To change all layers to have dtype float64 by default, call `tf.keras.backend.set_floatx('float64')`. To change just this layer, pass dtype='float64' to the layer constructor. If you are the author of this layer, you can disable autocasting by passing autocast=False to the base Layer constructor.\n",
      "\n",
      "24/24 [==============================] - ETA: 0s - loss: 245.1597 - mean_absolute_error: 245.159 - 0s 10ms/step - loss: nan - mean_absolute_error: nan - val_loss: 178.0689 - val_mean_absolute_error: 178.0689\n",
      "Epoch 2/5\n",
      "24/24 [==============================] - ETA: 0s - loss: nan - mean_absolute_error: na - 0s 3ms/step - loss: nan - mean_absolute_error: nan - val_loss: 128.1487 - val_mean_absolute_error: 128.1487\n",
      "Epoch 3/5\n",
      "24/24 [==============================] - ETA: 0s - loss: 121.4851 - mean_absolute_error: 121.485 - 0s 2ms/step - loss: nan - mean_absolute_error: nan - val_loss: 82.1421 - val_mean_absolute_error: 82.1421\n",
      "Epoch 4/5\n",
      "24/24 [==============================] - ETA: 0s - loss: 78.1472 - mean_absolute_error: 78.147 - 0s 2ms/step - loss: nan - mean_absolute_error: nan - val_loss: 65.5234 - val_mean_absolute_error: 65.5234\n",
      "Epoch 5/5\n",
      "24/24 [==============================] - ETA: 0s - loss: 97.0189 - mean_absolute_error: 97.018 - 0s 1ms/step - loss: nan - mean_absolute_error: nan - val_loss: 64.0621 - val_mean_absolute_error: 64.0621\n"
     ]
    },
    {
     "data": {
      "text/html": [
       "<span style=\"color:#4527A0\"><h1 style=\"font-size:18px\">Trial complete</h1></span>"
      ],
      "text/plain": [
       "<IPython.core.display.HTML object>"
      ]
     },
     "metadata": {},
     "output_type": "display_data"
    },
    {
     "data": {
      "text/html": [
       "<span style=\"color:#4527A0\"><h1 style=\"font-size:18px\">Trial summary</h1></span>"
      ],
      "text/plain": [
       "<IPython.core.display.HTML object>"
      ]
     },
     "metadata": {},
     "output_type": "display_data"
    },
    {
     "data": {
      "text/html": [
       "<span style=\"color:cyan\"> |-Trial ID: a5f859420c952a80d9cb73d5be4b88f3</span>"
      ],
      "text/plain": [
       "<IPython.core.display.HTML object>"
      ]
     },
     "metadata": {},
     "output_type": "display_data"
    },
    {
     "data": {
      "text/html": [
       "<span style=\"color:cyan\"> |-Score: 64.28056971232097</span>"
      ],
      "text/plain": [
       "<IPython.core.display.HTML object>"
      ]
     },
     "metadata": {},
     "output_type": "display_data"
    },
    {
     "data": {
      "text/html": [
       "<span style=\"color:cyan\"> |-Best step: 0</span>"
      ],
      "text/plain": [
       "<IPython.core.display.HTML object>"
      ]
     },
     "metadata": {},
     "output_type": "display_data"
    },
    {
     "data": {
      "text/html": [
       "<span style=\"color:#7E57C2\"><h2 style=\"font-size:16px\">Hyperparameters:</h2></span>"
      ],
      "text/plain": [
       "<IPython.core.display.HTML object>"
      ]
     },
     "metadata": {},
     "output_type": "display_data"
    },
    {
     "data": {
      "text/html": [
       "<span style=\"color:cyan\"> |-Learning_Rate: 0.0001</span>"
      ],
      "text/plain": [
       "<IPython.core.display.HTML object>"
      ]
     },
     "metadata": {},
     "output_type": "display_data"
    },
    {
     "data": {
      "text/html": [
       "<span style=\"color:blue\"> |-Units_0: 192</span>"
      ],
      "text/plain": [
       "<IPython.core.display.HTML object>"
      ]
     },
     "metadata": {},
     "output_type": "display_data"
    },
    {
     "data": {
      "text/html": [
       "<span style=\"color:cyan\"> |-num_layers: 3</span>"
      ],
      "text/plain": [
       "<IPython.core.display.HTML object>"
      ]
     },
     "metadata": {},
     "output_type": "display_data"
    },
    {
     "name": "stdout",
     "output_type": "stream",
     "text": [
      "Epoch 1/5\n",
      "WARNING:tensorflow:Layer dense is casting an input tensor from dtype float64 to the layer's dtype of float32, which is new behavior in TensorFlow 2.  The layer has dtype float32 because its dtype defaults to floatx.\n",
      "\n",
      "If you intended to run this layer in float32, you can safely ignore this warning. If in doubt, this warning is likely only an issue if you are porting a TensorFlow 1.X model to TensorFlow 2.\n",
      "\n",
      "To change all layers to have dtype float64 by default, call `tf.keras.backend.set_floatx('float64')`. To change just this layer, pass dtype='float64' to the layer constructor. If you are the author of this layer, you can disable autocasting by passing autocast=False to the base Layer constructor.\n",
      "\n",
      "24/24 [==============================] - ETA: 0s - loss: 327.3621 - mean_absolute_error: 327.362 - 0s 13ms/step - loss: nan - mean_absolute_error: nan - val_loss: 70.6925 - val_mean_absolute_error: 70.6925\n",
      "Epoch 2/5\n",
      "24/24 [==============================] - ETA: 0s - loss: 74.3850 - mean_absolute_error: 74.385 - 1s 36ms/step - loss: nan - mean_absolute_error: nan - val_loss: 67.9827 - val_mean_absolute_error: 67.9827\n",
      "Epoch 3/5\n",
      "24/24 [==============================] - ETA: 0s - loss: 72.0519 - mean_absolute_error: 72.051 - 0s 10ms/step - loss: nan - mean_absolute_error: nan - val_loss: 67.0679 - val_mean_absolute_error: 67.0679\n",
      "Epoch 4/5\n",
      "24/24 [==============================] - ETA: 0s - loss: 93.1112 - mean_absolute_error: 93.111 - 0s 9ms/step - loss: nan - mean_absolute_error: nan - val_loss: 66.0264 - val_mean_absolute_error: 66.0264\n",
      "Epoch 5/5\n",
      "24/24 [==============================] - ETA: 0s - loss: 44.6104 - mean_absolute_error: 44.610 - 0s 2ms/step - loss: nan - mean_absolute_error: nan - val_loss: 66.4134 - val_mean_absolute_error: 66.4134\n",
      "Epoch 1/5\n",
      "WARNING:tensorflow:Layer dense is casting an input tensor from dtype float64 to the layer's dtype of float32, which is new behavior in TensorFlow 2.  The layer has dtype float32 because its dtype defaults to floatx.\n",
      "\n",
      "If you intended to run this layer in float32, you can safely ignore this warning. If in doubt, this warning is likely only an issue if you are porting a TensorFlow 1.X model to TensorFlow 2.\n",
      "\n",
      "To change all layers to have dtype float64 by default, call `tf.keras.backend.set_floatx('float64')`. To change just this layer, pass dtype='float64' to the layer constructor. If you are the author of this layer, you can disable autocasting by passing autocast=False to the base Layer constructor.\n",
      "\n",
      "24/24 [==============================] - ETA: 0s - loss: 91.3408 - mean_absolute_error: 91.340 - 0s 13ms/step - loss: nan - mean_absolute_error: nan - val_loss: 63.7242 - val_mean_absolute_error: 63.7242\n",
      "Epoch 2/5\n",
      "24/24 [==============================] - ETA: 0s - loss: 62.5263 - mean_absolute_error: 62.526 - 0s 2ms/step - loss: nan - mean_absolute_error: nan - val_loss: 66.5804 - val_mean_absolute_error: 66.5804\n",
      "Epoch 3/5\n",
      "24/24 [==============================] - ETA: 0s - loss: 85.4296 - mean_absolute_error: 85.429 - 0s 9ms/step - loss: nan - mean_absolute_error: nan - val_loss: 62.1581 - val_mean_absolute_error: 62.1581\n",
      "Epoch 4/5\n",
      "24/24 [==============================] - ETA: 0s - loss: 56.9566 - mean_absolute_error: 56.956 - 1s 31ms/step - loss: nan - mean_absolute_error: nan - val_loss: 61.5187 - val_mean_absolute_error: 61.5187\n",
      "Epoch 5/5\n",
      "24/24 [==============================] - ETA: 0s - loss: 47.7049 - mean_absolute_error: 47.704 - 0s 2ms/step - loss: nan - mean_absolute_error: nan - val_loss: 61.8050 - val_mean_absolute_error: 61.8050\n",
      "Epoch 1/5\n",
      "WARNING:tensorflow:Layer dense is casting an input tensor from dtype float64 to the layer's dtype of float32, which is new behavior in TensorFlow 2.  The layer has dtype float32 because its dtype defaults to floatx.\n",
      "\n",
      "If you intended to run this layer in float32, you can safely ignore this warning. If in doubt, this warning is likely only an issue if you are porting a TensorFlow 1.X model to TensorFlow 2.\n",
      "\n",
      "To change all layers to have dtype float64 by default, call `tf.keras.backend.set_floatx('float64')`. To change just this layer, pass dtype='float64' to the layer constructor. If you are the author of this layer, you can disable autocasting by passing autocast=False to the base Layer constructor.\n",
      "\n",
      "24/24 [==============================] - ETA: 0s - loss: 113.8568 - mean_absolute_error: 113.856 - 0s 5ms/step - loss: nan - mean_absolute_error: nan - val_loss: 62.1376 - val_mean_absolute_error: 62.1376\n",
      "Epoch 2/5\n",
      "24/24 [==============================] - ETA: 0s - loss: nan - mean_absolute_error: na - 0s 15ms/step - loss: nan - mean_absolute_error: nan - val_loss: 61.5110 - val_mean_absolute_error: 61.5110\n",
      "Epoch 3/5\n",
      "24/24 [==============================] - ETA: 0s - loss: 65.9328 - mean_absolute_error: 65.932 - 0s 9ms/step - loss: nan - mean_absolute_error: nan - val_loss: 61.2355 - val_mean_absolute_error: 61.2355\n",
      "Epoch 4/5\n",
      "24/24 [==============================] - ETA: 0s - loss: 73.9380 - mean_absolute_error: 73.938 - 0s 9ms/step - loss: nan - mean_absolute_error: nan - val_loss: 60.2272 - val_mean_absolute_error: 60.2272\n",
      "Epoch 5/5\n",
      "24/24 [==============================] - ETA: 0s - loss: 63.0148 - mean_absolute_error: 63.014 - 0s 10ms/step - loss: nan - mean_absolute_error: nan - val_loss: 59.6243 - val_mean_absolute_error: 59.6243\n"
     ]
    },
    {
     "data": {
      "text/html": [
       "<span style=\"color:#4527A0\"><h1 style=\"font-size:18px\">Trial complete</h1></span>"
      ],
      "text/plain": [
       "<IPython.core.display.HTML object>"
      ]
     },
     "metadata": {},
     "output_type": "display_data"
    },
    {
     "data": {
      "text/html": [
       "<span style=\"color:#4527A0\"><h1 style=\"font-size:18px\">Trial summary</h1></span>"
      ],
      "text/plain": [
       "<IPython.core.display.HTML object>"
      ]
     },
     "metadata": {},
     "output_type": "display_data"
    },
    {
     "data": {
      "text/html": [
       "<span style=\"color:cyan\"> |-Trial ID: a85f85ec18baf410d59b990aa20c5ab4</span>"
      ],
      "text/plain": [
       "<IPython.core.display.HTML object>"
      ]
     },
     "metadata": {},
     "output_type": "display_data"
    },
    {
     "data": {
      "text/html": [
       "<span style=\"color:cyan\"> |-Score: 62.38978830973307</span>"
      ],
      "text/plain": [
       "<IPython.core.display.HTML object>"
      ]
     },
     "metadata": {},
     "output_type": "display_data"
    },
    {
     "data": {
      "text/html": [
       "<span style=\"color:cyan\"> |-Best step: 0</span>"
      ],
      "text/plain": [
       "<IPython.core.display.HTML object>"
      ]
     },
     "metadata": {},
     "output_type": "display_data"
    },
    {
     "data": {
      "text/html": [
       "<span style=\"color:#7E57C2\"><h2 style=\"font-size:16px\">Hyperparameters:</h2></span>"
      ],
      "text/plain": [
       "<IPython.core.display.HTML object>"
      ]
     },
     "metadata": {},
     "output_type": "display_data"
    },
    {
     "data": {
      "text/html": [
       "<span style=\"color:cyan\"> |-Learning_Rate: 0.001</span>"
      ],
      "text/plain": [
       "<IPython.core.display.HTML object>"
      ]
     },
     "metadata": {},
     "output_type": "display_data"
    },
    {
     "data": {
      "text/html": [
       "<span style=\"color:blue\"> |-Units_0: 96</span>"
      ],
      "text/plain": [
       "<IPython.core.display.HTML object>"
      ]
     },
     "metadata": {},
     "output_type": "display_data"
    },
    {
     "data": {
      "text/html": [
       "<span style=\"color:cyan\"> |-num_layers: 6</span>"
      ],
      "text/plain": [
       "<IPython.core.display.HTML object>"
      ]
     },
     "metadata": {},
     "output_type": "display_data"
    },
    {
     "name": "stdout",
     "output_type": "stream",
     "text": [
      "INFO:tensorflow:Oracle triggered exit\n"
     ]
    }
   ],
   "source": [
    "tuner.search(X_train, y_train, epochs=5, validation_data=(X_test, y_test))"
   ]
  },
  {
   "cell_type": "code",
   "execution_count": 11,
   "metadata": {},
   "outputs": [
    {
     "data": {
      "text/html": [
       "<span style=\"color:#4527A0\"><h1 style=\"font-size:18px\">Results summary</h1></span>"
      ],
      "text/plain": [
       "<IPython.core.display.HTML object>"
      ]
     },
     "metadata": {},
     "output_type": "display_data"
    },
    {
     "data": {
      "text/html": [
       "<span style=\"color:cyan\"> |-Results in my_dir\\hyperparameter_tuning_using_Keras_Tuner</span>"
      ],
      "text/plain": [
       "<IPython.core.display.HTML object>"
      ]
     },
     "metadata": {},
     "output_type": "display_data"
    },
    {
     "data": {
      "text/html": [
       "<span style=\"color:cyan\"> |-Showing 10 best trials</span>"
      ],
      "text/plain": [
       "<IPython.core.display.HTML object>"
      ]
     },
     "metadata": {},
     "output_type": "display_data"
    },
    {
     "data": {
      "text/html": [
       "<span style=\"color:cyan\"> |-Objective(name='val_mean_absolute_error', direction='min')</span>"
      ],
      "text/plain": [
       "<IPython.core.display.HTML object>"
      ]
     },
     "metadata": {},
     "output_type": "display_data"
    },
    {
     "data": {
      "text/html": [
       "<span style=\"color:#4527A0\"><h1 style=\"font-size:18px\">Trial summary</h1></span>"
      ],
      "text/plain": [
       "<IPython.core.display.HTML object>"
      ]
     },
     "metadata": {},
     "output_type": "display_data"
    },
    {
     "data": {
      "text/html": [
       "<span style=\"color:cyan\"> |-Trial ID: 53b6e4a5fb2db4cccfb408aa48985212</span>"
      ],
      "text/plain": [
       "<IPython.core.display.HTML object>"
      ]
     },
     "metadata": {},
     "output_type": "display_data"
    },
    {
     "data": {
      "text/html": [
       "<span style=\"color:cyan\"> |-Score: 58.530382792154946</span>"
      ],
      "text/plain": [
       "<IPython.core.display.HTML object>"
      ]
     },
     "metadata": {},
     "output_type": "display_data"
    },
    {
     "data": {
      "text/html": [
       "<span style=\"color:cyan\"> |-Best step: 0</span>"
      ],
      "text/plain": [
       "<IPython.core.display.HTML object>"
      ]
     },
     "metadata": {},
     "output_type": "display_data"
    },
    {
     "data": {
      "text/html": [
       "<span style=\"color:#7E57C2\"><h2 style=\"font-size:16px\">Hyperparameters:</h2></span>"
      ],
      "text/plain": [
       "<IPython.core.display.HTML object>"
      ]
     },
     "metadata": {},
     "output_type": "display_data"
    },
    {
     "data": {
      "text/html": [
       "<span style=\"color:cyan\"> |-Learning_Rate: 0.001</span>"
      ],
      "text/plain": [
       "<IPython.core.display.HTML object>"
      ]
     },
     "metadata": {},
     "output_type": "display_data"
    },
    {
     "data": {
      "text/html": [
       "<span style=\"color:blue\"> |-Units_0: 224</span>"
      ],
      "text/plain": [
       "<IPython.core.display.HTML object>"
      ]
     },
     "metadata": {},
     "output_type": "display_data"
    },
    {
     "data": {
      "text/html": [
       "<span style=\"color:cyan\"> |-num_layers: 22</span>"
      ],
      "text/plain": [
       "<IPython.core.display.HTML object>"
      ]
     },
     "metadata": {},
     "output_type": "display_data"
    },
    {
     "data": {
      "text/html": [
       "<span style=\"color:#4527A0\"><h1 style=\"font-size:18px\">Trial summary</h1></span>"
      ],
      "text/plain": [
       "<IPython.core.display.HTML object>"
      ]
     },
     "metadata": {},
     "output_type": "display_data"
    },
    {
     "data": {
      "text/html": [
       "<span style=\"color:cyan\"> |-Trial ID: 7d7cc96c8a745d7cd4ea4fb7a42771cf</span>"
      ],
      "text/plain": [
       "<IPython.core.display.HTML object>"
      ]
     },
     "metadata": {},
     "output_type": "display_data"
    },
    {
     "data": {
      "text/html": [
       "<span style=\"color:cyan\"> |-Score: 61.53938293457031</span>"
      ],
      "text/plain": [
       "<IPython.core.display.HTML object>"
      ]
     },
     "metadata": {},
     "output_type": "display_data"
    },
    {
     "data": {
      "text/html": [
       "<span style=\"color:cyan\"> |-Best step: 0</span>"
      ],
      "text/plain": [
       "<IPython.core.display.HTML object>"
      ]
     },
     "metadata": {},
     "output_type": "display_data"
    },
    {
     "data": {
      "text/html": [
       "<span style=\"color:#7E57C2\"><h2 style=\"font-size:16px\">Hyperparameters:</h2></span>"
      ],
      "text/plain": [
       "<IPython.core.display.HTML object>"
      ]
     },
     "metadata": {},
     "output_type": "display_data"
    },
    {
     "data": {
      "text/html": [
       "<span style=\"color:cyan\"> |-Learning_Rate: 0.001</span>"
      ],
      "text/plain": [
       "<IPython.core.display.HTML object>"
      ]
     },
     "metadata": {},
     "output_type": "display_data"
    },
    {
     "data": {
      "text/html": [
       "<span style=\"color:blue\"> |-Units_0: 256</span>"
      ],
      "text/plain": [
       "<IPython.core.display.HTML object>"
      ]
     },
     "metadata": {},
     "output_type": "display_data"
    },
    {
     "data": {
      "text/html": [
       "<span style=\"color:cyan\"> |-num_layers: 14</span>"
      ],
      "text/plain": [
       "<IPython.core.display.HTML object>"
      ]
     },
     "metadata": {},
     "output_type": "display_data"
    },
    {
     "data": {
      "text/html": [
       "<span style=\"color:#4527A0\"><h1 style=\"font-size:18px\">Trial summary</h1></span>"
      ],
      "text/plain": [
       "<IPython.core.display.HTML object>"
      ]
     },
     "metadata": {},
     "output_type": "display_data"
    },
    {
     "data": {
      "text/html": [
       "<span style=\"color:cyan\"> |-Trial ID: a85f85ec18baf410d59b990aa20c5ab4</span>"
      ],
      "text/plain": [
       "<IPython.core.display.HTML object>"
      ]
     },
     "metadata": {},
     "output_type": "display_data"
    },
    {
     "data": {
      "text/html": [
       "<span style=\"color:cyan\"> |-Score: 62.38978830973307</span>"
      ],
      "text/plain": [
       "<IPython.core.display.HTML object>"
      ]
     },
     "metadata": {},
     "output_type": "display_data"
    },
    {
     "data": {
      "text/html": [
       "<span style=\"color:cyan\"> |-Best step: 0</span>"
      ],
      "text/plain": [
       "<IPython.core.display.HTML object>"
      ]
     },
     "metadata": {},
     "output_type": "display_data"
    },
    {
     "data": {
      "text/html": [
       "<span style=\"color:#7E57C2\"><h2 style=\"font-size:16px\">Hyperparameters:</h2></span>"
      ],
      "text/plain": [
       "<IPython.core.display.HTML object>"
      ]
     },
     "metadata": {},
     "output_type": "display_data"
    },
    {
     "data": {
      "text/html": [
       "<span style=\"color:cyan\"> |-Learning_Rate: 0.001</span>"
      ],
      "text/plain": [
       "<IPython.core.display.HTML object>"
      ]
     },
     "metadata": {},
     "output_type": "display_data"
    },
    {
     "data": {
      "text/html": [
       "<span style=\"color:blue\"> |-Units_0: 96</span>"
      ],
      "text/plain": [
       "<IPython.core.display.HTML object>"
      ]
     },
     "metadata": {},
     "output_type": "display_data"
    },
    {
     "data": {
      "text/html": [
       "<span style=\"color:cyan\"> |-num_layers: 6</span>"
      ],
      "text/plain": [
       "<IPython.core.display.HTML object>"
      ]
     },
     "metadata": {},
     "output_type": "display_data"
    },
    {
     "data": {
      "text/html": [
       "<span style=\"color:#4527A0\"><h1 style=\"font-size:18px\">Trial summary</h1></span>"
      ],
      "text/plain": [
       "<IPython.core.display.HTML object>"
      ]
     },
     "metadata": {},
     "output_type": "display_data"
    },
    {
     "data": {
      "text/html": [
       "<span style=\"color:cyan\"> |-Trial ID: a5f859420c952a80d9cb73d5be4b88f3</span>"
      ],
      "text/plain": [
       "<IPython.core.display.HTML object>"
      ]
     },
     "metadata": {},
     "output_type": "display_data"
    },
    {
     "data": {
      "text/html": [
       "<span style=\"color:cyan\"> |-Score: 64.28056971232097</span>"
      ],
      "text/plain": [
       "<IPython.core.display.HTML object>"
      ]
     },
     "metadata": {},
     "output_type": "display_data"
    },
    {
     "data": {
      "text/html": [
       "<span style=\"color:cyan\"> |-Best step: 0</span>"
      ],
      "text/plain": [
       "<IPython.core.display.HTML object>"
      ]
     },
     "metadata": {},
     "output_type": "display_data"
    },
    {
     "data": {
      "text/html": [
       "<span style=\"color:#7E57C2\"><h2 style=\"font-size:16px\">Hyperparameters:</h2></span>"
      ],
      "text/plain": [
       "<IPython.core.display.HTML object>"
      ]
     },
     "metadata": {},
     "output_type": "display_data"
    },
    {
     "data": {
      "text/html": [
       "<span style=\"color:cyan\"> |-Learning_Rate: 0.0001</span>"
      ],
      "text/plain": [
       "<IPython.core.display.HTML object>"
      ]
     },
     "metadata": {},
     "output_type": "display_data"
    },
    {
     "data": {
      "text/html": [
       "<span style=\"color:blue\"> |-Units_0: 192</span>"
      ],
      "text/plain": [
       "<IPython.core.display.HTML object>"
      ]
     },
     "metadata": {},
     "output_type": "display_data"
    },
    {
     "data": {
      "text/html": [
       "<span style=\"color:cyan\"> |-num_layers: 3</span>"
      ],
      "text/plain": [
       "<IPython.core.display.HTML object>"
      ]
     },
     "metadata": {},
     "output_type": "display_data"
    },
    {
     "data": {
      "text/html": [
       "<span style=\"color:#4527A0\"><h1 style=\"font-size:18px\">Trial summary</h1></span>"
      ],
      "text/plain": [
       "<IPython.core.display.HTML object>"
      ]
     },
     "metadata": {},
     "output_type": "display_data"
    },
    {
     "data": {
      "text/html": [
       "<span style=\"color:cyan\"> |-Trial ID: 3ba0bfd31faa2534c2d5b94608c04bbd</span>"
      ],
      "text/plain": [
       "<IPython.core.display.HTML object>"
      ]
     },
     "metadata": {},
     "output_type": "display_data"
    },
    {
     "data": {
      "text/html": [
       "<span style=\"color:cyan\"> |-Score: 64.47887293497722</span>"
      ],
      "text/plain": [
       "<IPython.core.display.HTML object>"
      ]
     },
     "metadata": {},
     "output_type": "display_data"
    },
    {
     "data": {
      "text/html": [
       "<span style=\"color:cyan\"> |-Best step: 0</span>"
      ],
      "text/plain": [
       "<IPython.core.display.HTML object>"
      ]
     },
     "metadata": {},
     "output_type": "display_data"
    },
    {
     "data": {
      "text/html": [
       "<span style=\"color:#7E57C2\"><h2 style=\"font-size:16px\">Hyperparameters:</h2></span>"
      ],
      "text/plain": [
       "<IPython.core.display.HTML object>"
      ]
     },
     "metadata": {},
     "output_type": "display_data"
    },
    {
     "data": {
      "text/html": [
       "<span style=\"color:cyan\"> |-Learning_Rate: 0.001</span>"
      ],
      "text/plain": [
       "<IPython.core.display.HTML object>"
      ]
     },
     "metadata": {},
     "output_type": "display_data"
    },
    {
     "data": {
      "text/html": [
       "<span style=\"color:blue\"> |-Units_0: 32</span>"
      ],
      "text/plain": [
       "<IPython.core.display.HTML object>"
      ]
     },
     "metadata": {},
     "output_type": "display_data"
    },
    {
     "data": {
      "text/html": [
       "<span style=\"color:cyan\"> |-num_layers: 4</span>"
      ],
      "text/plain": [
       "<IPython.core.display.HTML object>"
      ]
     },
     "metadata": {},
     "output_type": "display_data"
    }
   ],
   "source": [
    "tuner.results_summary() #Score or MAE should be less to have better model"
   ]
  },
  {
   "cell_type": "code",
   "execution_count": null,
   "metadata": {},
   "outputs": [],
   "source": []
  }
 ],
 "metadata": {
  "kernelspec": {
   "display_name": "Python 3",
   "language": "python",
   "name": "python3"
  },
  "language_info": {
   "codemirror_mode": {
    "name": "ipython",
    "version": 3
   },
   "file_extension": ".py",
   "mimetype": "text/x-python",
   "name": "python",
   "nbconvert_exporter": "python",
   "pygments_lexer": "ipython3",
   "version": "3.7.3"
  }
 },
 "nbformat": 4,
 "nbformat_minor": 2
}
